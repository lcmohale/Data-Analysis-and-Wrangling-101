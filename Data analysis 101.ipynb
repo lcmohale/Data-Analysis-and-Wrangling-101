{
 "cells": [
  {
   "cell_type": "markdown",
   "metadata": {},
   "source": [
    "# Data Analysis 101"
   ]
  },
  {
   "cell_type": "markdown",
   "metadata": {},
   "source": [
    "# Story?"
   ]
  },
  {
   "cell_type": "markdown",
   "metadata": {},
   "source": [
    "Data on it's own doesnt provide much of the Information that may be used to figure out something...\n",
    "but if the Data is analysed, then valuable Insigts can be derived form it..\n",
    "\n",
    "We have the data <a href=\"\">Recorded divorces in South Africa 2012</a>, now what juice can we enjoy from this Data?\n",
    "\n",
    "lest code, analyse and find out..."
   ]
  },
  {
   "cell_type": "code",
   "execution_count": 16,
   "metadata": {
    "collapsed": true
   },
   "outputs": [],
   "source": [
    "#init_notebook_mode(connected=True)"
   ]
  },
  {
   "cell_type": "code",
   "execution_count": 20,
   "metadata": {
    "collapsed": true
   },
   "outputs": [],
   "source": [
    "#Get the Libraries\n",
    "\n",
    "import pandas as pd\n",
    "import matplotlib.pyplot as plt\n",
    "import seaborn as sns\n",
    "%matplotlib inline"
   ]
  },
  {
   "cell_type": "code",
   "execution_count": 21,
   "metadata": {
    "collapsed": true
   },
   "outputs": [],
   "source": [
    "#Read in the Data\n",
    "data = pd.read_csv(r\"C:\\Users\\Admin\\Desktop\\Excel\\Divorces_in_South_Africa_2012.csv\")"
   ]
  },
  {
   "cell_type": "code",
   "execution_count": 22,
   "metadata": {},
   "outputs": [
    {
     "name": "stdout",
     "output_type": "stream",
     "text": [
      "21998\n"
     ]
    },
    {
     "data": {
      "text/html": [
       "<div>\n",
       "<style>\n",
       "    .dataframe thead tr:only-child th {\n",
       "        text-align: right;\n",
       "    }\n",
       "\n",
       "    .dataframe thead th {\n",
       "        text-align: left;\n",
       "    }\n",
       "\n",
       "    .dataframe tbody tr th {\n",
       "        vertical-align: top;\n",
       "    }\n",
       "</style>\n",
       "<table border=\"1\" class=\"dataframe\">\n",
       "  <thead>\n",
       "    <tr style=\"text-align: right;\">\n",
       "      <th></th>\n",
       "      <th>MaleRace</th>\n",
       "      <th>FemaleRace</th>\n",
       "      <th>CoupleRace</th>\n",
       "      <th>MaleOccupation</th>\n",
       "      <th>FemaleOccupation</th>\n",
       "      <th>PlaintiffSex</th>\n",
       "      <th>PlaintiffOccupation</th>\n",
       "      <th>MaleStatus</th>\n",
       "      <th>FemaleStatus</th>\n",
       "      <th>MaleNoTimesMarried</th>\n",
       "      <th>...</th>\n",
       "      <th>SolemnisationCode</th>\n",
       "      <th>MarriageType</th>\n",
       "      <th>NoOfChildren</th>\n",
       "      <th>MarriageMonth</th>\n",
       "      <th>MarriageYear</th>\n",
       "      <th>SeparationMonth</th>\n",
       "      <th>SeparationYear</th>\n",
       "      <th>DivorceMonth</th>\n",
       "      <th>DivorceYear</th>\n",
       "      <th>DurationOfMarriage</th>\n",
       "    </tr>\n",
       "  </thead>\n",
       "  <tbody>\n",
       "    <tr>\n",
       "      <th>0</th>\n",
       "      <td>9</td>\n",
       "      <td>9</td>\n",
       "      <td>9</td>\n",
       "      <td>2</td>\n",
       "      <td>2</td>\n",
       "      <td>1</td>\n",
       "      <td>2</td>\n",
       "      <td>1</td>\n",
       "      <td>1</td>\n",
       "      <td>1</td>\n",
       "      <td>...</td>\n",
       "      <td>2</td>\n",
       "      <td>3</td>\n",
       "      <td>1</td>\n",
       "      <td>8</td>\n",
       "      <td>1997</td>\n",
       "      <td>99</td>\n",
       "      <td>9999</td>\n",
       "      <td>2</td>\n",
       "      <td>2012</td>\n",
       "      <td>15</td>\n",
       "    </tr>\n",
       "    <tr>\n",
       "      <th>1</th>\n",
       "      <td>2</td>\n",
       "      <td>2</td>\n",
       "      <td>2</td>\n",
       "      <td>0</td>\n",
       "      <td>99</td>\n",
       "      <td>2</td>\n",
       "      <td>99</td>\n",
       "      <td>1</td>\n",
       "      <td>1</td>\n",
       "      <td>1</td>\n",
       "      <td>...</td>\n",
       "      <td>2</td>\n",
       "      <td>3</td>\n",
       "      <td>1</td>\n",
       "      <td>2</td>\n",
       "      <td>1992</td>\n",
       "      <td>6</td>\n",
       "      <td>2000</td>\n",
       "      <td>7</td>\n",
       "      <td>2012</td>\n",
       "      <td>20</td>\n",
       "    </tr>\n",
       "    <tr>\n",
       "      <th>2</th>\n",
       "      <td>1</td>\n",
       "      <td>1</td>\n",
       "      <td>1</td>\n",
       "      <td>3</td>\n",
       "      <td>99</td>\n",
       "      <td>1</td>\n",
       "      <td>3</td>\n",
       "      <td>1</td>\n",
       "      <td>1</td>\n",
       "      <td>1</td>\n",
       "      <td>...</td>\n",
       "      <td>2</td>\n",
       "      <td>3</td>\n",
       "      <td>2</td>\n",
       "      <td>9</td>\n",
       "      <td>2009</td>\n",
       "      <td>1</td>\n",
       "      <td>2010</td>\n",
       "      <td>2</td>\n",
       "      <td>2012</td>\n",
       "      <td>3</td>\n",
       "    </tr>\n",
       "    <tr>\n",
       "      <th>3</th>\n",
       "      <td>2</td>\n",
       "      <td>2</td>\n",
       "      <td>2</td>\n",
       "      <td>99</td>\n",
       "      <td>3</td>\n",
       "      <td>2</td>\n",
       "      <td>3</td>\n",
       "      <td>4</td>\n",
       "      <td>1</td>\n",
       "      <td>2</td>\n",
       "      <td>...</td>\n",
       "      <td>2</td>\n",
       "      <td>3</td>\n",
       "      <td>1</td>\n",
       "      <td>5</td>\n",
       "      <td>1997</td>\n",
       "      <td>5</td>\n",
       "      <td>2010</td>\n",
       "      <td>2</td>\n",
       "      <td>2012</td>\n",
       "      <td>15</td>\n",
       "    </tr>\n",
       "    <tr>\n",
       "      <th>4</th>\n",
       "      <td>9</td>\n",
       "      <td>9</td>\n",
       "      <td>9</td>\n",
       "      <td>7</td>\n",
       "      <td>1</td>\n",
       "      <td>1</td>\n",
       "      <td>7</td>\n",
       "      <td>1</td>\n",
       "      <td>1</td>\n",
       "      <td>1</td>\n",
       "      <td>...</td>\n",
       "      <td>2</td>\n",
       "      <td>3</td>\n",
       "      <td>0</td>\n",
       "      <td>12</td>\n",
       "      <td>2008</td>\n",
       "      <td>99</td>\n",
       "      <td>9999</td>\n",
       "      <td>4</td>\n",
       "      <td>2012</td>\n",
       "      <td>4</td>\n",
       "    </tr>\n",
       "  </tbody>\n",
       "</table>\n",
       "<p>5 rows × 23 columns</p>\n",
       "</div>"
      ],
      "text/plain": [
       "   MaleRace  FemaleRace  CoupleRace  MaleOccupation  FemaleOccupation  \\\n",
       "0         9           9           9               2                 2   \n",
       "1         2           2           2               0                99   \n",
       "2         1           1           1               3                99   \n",
       "3         2           2           2              99                 3   \n",
       "4         9           9           9               7                 1   \n",
       "\n",
       "   PlaintiffSex  PlaintiffOccupation  MaleStatus  FemaleStatus  \\\n",
       "0             1                    2           1             1   \n",
       "1             2                   99           1             1   \n",
       "2             1                    3           1             1   \n",
       "3             2                    3           4             1   \n",
       "4             1                    7           1             1   \n",
       "\n",
       "   MaleNoTimesMarried         ...          SolemnisationCode  MarriageType  \\\n",
       "0                   1         ...                          2             3   \n",
       "1                   1         ...                          2             3   \n",
       "2                   1         ...                          2             3   \n",
       "3                   2         ...                          2             3   \n",
       "4                   1         ...                          2             3   \n",
       "\n",
       "   NoOfChildren  MarriageMonth  MarriageYear  SeparationMonth  SeparationYear  \\\n",
       "0             1              8          1997               99            9999   \n",
       "1             1              2          1992                6            2000   \n",
       "2             2              9          2009                1            2010   \n",
       "3             1              5          1997                5            2010   \n",
       "4             0             12          2008               99            9999   \n",
       "\n",
       "   DivorceMonth  DivorceYear  DurationOfMarriage  \n",
       "0             2         2012                  15  \n",
       "1             7         2012                  20  \n",
       "2             2         2012                   3  \n",
       "3             2         2012                  15  \n",
       "4             4         2012                   4  \n",
       "\n",
       "[5 rows x 23 columns]"
      ]
     },
     "execution_count": 22,
     "metadata": {},
     "output_type": "execute_result"
    }
   ],
   "source": [
    "#Number of Recorded Divorces_in_South_Africa_2012 \n",
    "print(len(data))\n",
    "data.head()\n",
    "#data.describe()"
   ]
  },
  {
   "cell_type": "markdown",
   "metadata": {},
   "source": [
    "From printing out the data, we can see that it consists of about 21998 rows, which are the number of Recorded marriages in South Africa for that year(2012)\n",
    "\n",
    "This is a lot of data to deal with..."
   ]
  },
  {
   "cell_type": "markdown",
   "metadata": {},
   "source": [
    "# Function for finding columns data, frequency distribution \n",
    "...since we are dealing with categorical data on each column..."
   ]
  },
  {
   "cell_type": "code",
   "execution_count": 23,
   "metadata": {
    "collapsed": true
   },
   "outputs": [],
   "source": [
    "\n",
    "def cols_dist(col):\n",
    "    male_race_freq_dist = {}\n",
    "    for _ in data[col]:\n",
    "        if _ not in male_race_freq_dist:\n",
    "            male_race_freq_dist[_] = 1\n",
    "        else:\n",
    "            male_race_freq_dist[_] += 1\n",
    "            \n",
    "    return male_race_freq_dist\n",
    "  "
   ]
  },
  {
   "cell_type": "code",
   "execution_count": 24,
   "metadata": {},
   "outputs": [
    {
     "data": {
      "text/plain": [
       "{1: 7679, 2: 4186, 3: 1263, 4: 7444, 5: 139, 9: 1287}"
      ]
     },
     "execution_count": 24,
     "metadata": {},
     "output_type": "execute_result"
    }
   ],
   "source": [
    "#All columns frequency distributions\n",
    "columns = data.columns\n",
    "cols_dists = []\n",
    "\n",
    "for column in columns:  \n",
    "    cols_dists.append(cols_dist(column))\n",
    "\n",
    "cols_dists[0]"
   ]
  },
  {
   "cell_type": "markdown",
   "metadata": {},
   "source": [
    "# Now that we have the distibution of each column in the dataset\n",
    "we can group the distributions as we want..."
   ]
  },
  {
   "cell_type": "markdown",
   "metadata": {},
   "source": [
    "In this Case we are grouping the MaleRace and FemaleRace frequency distribution, in order to answer the Question\n",
    "-  which race is most frequent or rather wich race had most divorces(recorded) both on male and female in 2012?"
   ]
  },
  {
   "cell_type": "code",
   "execution_count": 25,
   "metadata": {},
   "outputs": [
    {
     "data": {
      "text/html": [
       "<div>\n",
       "<style>\n",
       "    .dataframe thead tr:only-child th {\n",
       "        text-align: right;\n",
       "    }\n",
       "\n",
       "    .dataframe thead th {\n",
       "        text-align: left;\n",
       "    }\n",
       "\n",
       "    .dataframe tbody tr th {\n",
       "        vertical-align: top;\n",
       "    }\n",
       "</style>\n",
       "<table border=\"1\" class=\"dataframe\">\n",
       "  <thead>\n",
       "    <tr style=\"text-align: right;\">\n",
       "      <th></th>\n",
       "      <th>Male</th>\n",
       "      <th>Female</th>\n",
       "    </tr>\n",
       "  </thead>\n",
       "  <tbody>\n",
       "    <tr>\n",
       "      <th>9</th>\n",
       "      <td>1287</td>\n",
       "      <td>1402</td>\n",
       "    </tr>\n",
       "    <tr>\n",
       "      <th>2</th>\n",
       "      <td>4186</td>\n",
       "      <td>4359</td>\n",
       "    </tr>\n",
       "    <tr>\n",
       "      <th>1</th>\n",
       "      <td>7679</td>\n",
       "      <td>7661</td>\n",
       "    </tr>\n",
       "    <tr>\n",
       "      <th>5</th>\n",
       "      <td>139</td>\n",
       "      <td>49</td>\n",
       "    </tr>\n",
       "    <tr>\n",
       "      <th>3</th>\n",
       "      <td>1263</td>\n",
       "      <td>7377</td>\n",
       "    </tr>\n",
       "    <tr>\n",
       "      <th>4</th>\n",
       "      <td>7444</td>\n",
       "      <td>1150</td>\n",
       "    </tr>\n",
       "  </tbody>\n",
       "</table>\n",
       "</div>"
      ],
      "text/plain": [
       "   Male  Female\n",
       "9  1287    1402\n",
       "2  4186    4359\n",
       "1  7679    7661\n",
       "5   139      49\n",
       "3  1263    7377\n",
       "4  7444    1150"
      ]
     },
     "execution_count": 25,
     "metadata": {},
     "output_type": "execute_result"
    }
   ],
   "source": [
    "\n",
    "#new_data_frame =  pd.DataFrame([], index = ['Male', 'Female'] , columns = cols_dist('MaleRace').keys())\n",
    "new_data_frame =  pd.DataFrame([], index = cols_dist('MaleRace').keys(), columns = ['Male', 'Female'] )\n",
    "new_data_frame.Male = cols_dists[0].values()\n",
    "new_data_frame.Female = cols_dists[1].values()\n",
    "\n",
    "#new_data_frame.loc['Male'] = [n for n in cols_dists[0].values()]\n",
    "#new_data_frame.loc['Female'] = [n for n in cols_dists[1].values()]\n",
    "\n",
    "new_data_frame"
   ]
  },
  {
   "cell_type": "markdown",
   "metadata": {},
   "source": [
    "# Customization....\n",
    "\n",
    "Because we want to add some descriptiveness to our data...we customize it (Domain Specific Knowledge)\n",
    "\n",
    "For our data we have a manual for describing the data which can be found here \n",
    "<a href=\"https://data.code4sa.org/Government/Divorces-in-South-Africa-2012/f47a-ghee\">Divorce Data</a>\n",
    "    \n",
    "The manual describes the Categoies of Race as follow:\n",
    "    1 - Black African, \n",
    "    2 - Coloured, \n",
    "    3 - Indian/Asian, \n",
    "    4 - White, \n",
    "    5 - Mixed, \n",
    "    9 - Unspecified"
   ]
  },
  {
   "cell_type": "code",
   "execution_count": 27,
   "metadata": {},
   "outputs": [
    {
     "data": {
      "text/html": [
       "<div>\n",
       "<style>\n",
       "    .dataframe thead tr:only-child th {\n",
       "        text-align: right;\n",
       "    }\n",
       "\n",
       "    .dataframe thead th {\n",
       "        text-align: left;\n",
       "    }\n",
       "\n",
       "    .dataframe tbody tr th {\n",
       "        vertical-align: top;\n",
       "    }\n",
       "</style>\n",
       "<table border=\"1\" class=\"dataframe\">\n",
       "  <thead>\n",
       "    <tr style=\"text-align: right;\">\n",
       "      <th></th>\n",
       "      <th>Male</th>\n",
       "      <th>Female</th>\n",
       "    </tr>\n",
       "  </thead>\n",
       "  <tbody>\n",
       "    <tr>\n",
       "      <th>Unspecified</th>\n",
       "      <td>1287</td>\n",
       "      <td>1402</td>\n",
       "    </tr>\n",
       "    <tr>\n",
       "      <th>Coloured</th>\n",
       "      <td>4186</td>\n",
       "      <td>4359</td>\n",
       "    </tr>\n",
       "    <tr>\n",
       "      <th>Black African</th>\n",
       "      <td>7679</td>\n",
       "      <td>7661</td>\n",
       "    </tr>\n",
       "    <tr>\n",
       "      <th>Mixed</th>\n",
       "      <td>139</td>\n",
       "      <td>49</td>\n",
       "    </tr>\n",
       "    <tr>\n",
       "      <th>Indian/Asian</th>\n",
       "      <td>1263</td>\n",
       "      <td>7377</td>\n",
       "    </tr>\n",
       "    <tr>\n",
       "      <th>White</th>\n",
       "      <td>7444</td>\n",
       "      <td>1150</td>\n",
       "    </tr>\n",
       "  </tbody>\n",
       "</table>\n",
       "</div>"
      ],
      "text/plain": [
       "               Male  Female\n",
       "Unspecified    1287    1402\n",
       "Coloured       4186    4359\n",
       "Black African  7679    7661\n",
       "Mixed           139      49\n",
       "Indian/Asian   1263    7377\n",
       "White          7444    1150"
      ]
     },
     "execution_count": 27,
     "metadata": {},
     "output_type": "execute_result"
    }
   ],
   "source": [
    "# - Update the new data with discriptiveness\n",
    "new_data_frame.index = ['Unspecified','Coloured','Black African','Mixed','Indian/Asian','White']\n",
    "\n",
    "new_data_frame"
   ]
  },
  {
   "cell_type": "markdown",
   "metadata": {},
   "source": [
    "# Visualize...\n",
    "We can do the math to compare both Male and Female Race and find a Max, \n",
    "then compare that max to the other max's of other instances then we will have our answer\n",
    "but a plot would do us better..."
   ]
  },
  {
   "cell_type": "code",
   "execution_count": 9,
   "metadata": {},
   "outputs": [
    {
     "data": {
      "image/png": "[encoded data removed]",
      "text/plain": [
       "<matplotlib.figure.Figure at 0xce33f10>"
      ]
     },
     "metadata": {},
     "output_type": "display_data"
    }
   ],
   "source": [
    "plt.figure(figsize=(8,8))\n",
    "sns.swarmplot( x = new_data_frame.index,\n",
    "               y = new_data_frame['Male'])\n",
    "\n",
    "\n",
    "sns.barplot( x = new_data_frame.index,\n",
    "             y = new_data_frame['Female'], hue = new_data_frame.index)\n",
    "\n",
    "plt.title('\\nFrequency Distribution of South African Divorces 2012 by Race (both Male and Female)\\n')\n",
    "plt.xlabel('RACE', fontsize = 12)\n",
    "plt.ylabel('Distribution Count', fontsize = 12)\n",
    "\n",
    "\n",
    "plt.show()"
   ]
  },
  {
   "cell_type": "code",
   "execution_count": 10,
   "metadata": {
    "collapsed": true
   },
   "outputs": [],
   "source": [
    "#Now do a new Data Frame wich consists only of the Frequecy distributins\n",
    "columns = list(data.columns) "
   ]
  },
  {
   "cell_type": "code",
   "execution_count": 25,
   "metadata": {
    "collapsed": true
   },
   "outputs": [],
   "source": [
    "import sys\n",
    "import glob\n",
    "import serial\n",
    "\n",
    "\n",
    "def serial_ports():\n",
    "    \"\"\" Lists serial port names\n",
    "\n",
    "        :raises EnvironmentError:\n",
    "            On unsupported or unknown platforms\n",
    "        :returns:\n",
    "            A list of the serial ports available on the system\n",
    "    \"\"\"\n",
    "    if sys.platform.startswith('win'):\n",
    "        ports = ['COM%s' % (i + 1) for i in range(256)]\n",
    "    elif sys.platform.startswith('linux') or sys.platform.startswith('cygwin'):\n",
    "        # this excludes your current terminal \"/dev/tty\"\n",
    "        ports = glob.glob('/dev/tty[A-Za-z]*')\n",
    "    elif sys.platform.startswith('darwin'):\n",
    "        ports = glob.glob('/dev/tty.*')\n",
    "    else:\n",
    "        raise EnvironmentError('Unsupported platform')\n",
    "\n",
    "    result = []\n",
    "    for port in ports:\n",
    "        try:\n",
    "            s = serial.Serial(port)\n",
    "            s.close()\n",
    "            result.append(port)\n",
    "        except (OSError, serial.SerialException):\n",
    "            pass\n",
    "    return result"
   ]
  },
  {
   "cell_type": "code",
   "execution_count": 26,
   "metadata": {},
   "outputs": [
    {
     "data": {
      "text/plain": [
       "['COM1']"
      ]
     },
     "execution_count": 26,
     "metadata": {},
     "output_type": "execute_result"
    }
   ],
   "source": [
    "serial_ports()\n"
   ]
  },
  {
   "cell_type": "code",
   "execution_count": null,
   "metadata": {
    "collapsed": true
   },
   "outputs": [],
   "source": []
  }
 ],
 "metadata": {
  "kernelspec": {
   "display_name": "Python 3",
   "language": "python",
   "name": "python3"
  },
  "language_info": {
   "codemirror_mode": {
    "name": "ipython",
    "version": 3
   },
   "file_extension": ".py",
   "mimetype": "text/x-python",
   "name": "python",
   "nbconvert_exporter": "python",
   "pygments_lexer": "ipython3",
   "version": "3.6.1"
  }
 },
 "nbformat": 4,
 "nbformat_minor": 2
}
